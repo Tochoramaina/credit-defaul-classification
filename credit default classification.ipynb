{
 "cells": [
  {
   "cell_type": "code",
   "execution_count": 477,
   "metadata": {},
   "outputs": [],
   "source": [
    "# importing necessary  python libraries\n",
    "import pandas as pd\n",
    "import numpy as np\n",
    "import seaborn as sns\n",
    "import matplotlib.pyplot as plt"
   ]
  },
  {
   "cell_type": "code",
   "execution_count": 478,
   "metadata": {},
   "outputs": [
    {
     "data": {
      "text/html": [
       "<div>\n",
       "<style scoped>\n",
       "    .dataframe tbody tr th:only-of-type {\n",
       "        vertical-align: middle;\n",
       "    }\n",
       "\n",
       "    .dataframe tbody tr th {\n",
       "        vertical-align: top;\n",
       "    }\n",
       "\n",
       "    .dataframe thead th {\n",
       "        text-align: right;\n",
       "    }\n",
       "</style>\n",
       "<table border=\"1\" class=\"dataframe\">\n",
       "  <thead>\n",
       "    <tr style=\"text-align: right;\">\n",
       "      <th></th>\n",
       "      <th>checking_balance</th>\n",
       "      <th>months_loan_duration</th>\n",
       "      <th>credit_history</th>\n",
       "      <th>purpose</th>\n",
       "      <th>amount</th>\n",
       "      <th>savings_balance</th>\n",
       "      <th>employment_length</th>\n",
       "      <th>installment_rate</th>\n",
       "      <th>personal_status</th>\n",
       "      <th>other_debtors</th>\n",
       "      <th>...</th>\n",
       "      <th>property</th>\n",
       "      <th>age</th>\n",
       "      <th>installment_plan</th>\n",
       "      <th>housing</th>\n",
       "      <th>existing_credits</th>\n",
       "      <th>default</th>\n",
       "      <th>dependents</th>\n",
       "      <th>telephone</th>\n",
       "      <th>foreign_worker</th>\n",
       "      <th>job</th>\n",
       "    </tr>\n",
       "  </thead>\n",
       "  <tbody>\n",
       "    <tr>\n",
       "      <th>0</th>\n",
       "      <td>&lt; 0 DM</td>\n",
       "      <td>6</td>\n",
       "      <td>critical</td>\n",
       "      <td>radio/tv</td>\n",
       "      <td>1169</td>\n",
       "      <td>unknown</td>\n",
       "      <td>&gt; 7 yrs</td>\n",
       "      <td>4</td>\n",
       "      <td>single male</td>\n",
       "      <td>none</td>\n",
       "      <td>...</td>\n",
       "      <td>real estate</td>\n",
       "      <td>67</td>\n",
       "      <td>none</td>\n",
       "      <td>own</td>\n",
       "      <td>2</td>\n",
       "      <td>1</td>\n",
       "      <td>1</td>\n",
       "      <td>yes</td>\n",
       "      <td>yes</td>\n",
       "      <td>skilled employee</td>\n",
       "    </tr>\n",
       "    <tr>\n",
       "      <th>1</th>\n",
       "      <td>1 - 200 DM</td>\n",
       "      <td>48</td>\n",
       "      <td>repaid</td>\n",
       "      <td>radio/tv</td>\n",
       "      <td>5951</td>\n",
       "      <td>&lt; 100 DM</td>\n",
       "      <td>1 - 4 yrs</td>\n",
       "      <td>2</td>\n",
       "      <td>female</td>\n",
       "      <td>none</td>\n",
       "      <td>...</td>\n",
       "      <td>real estate</td>\n",
       "      <td>22</td>\n",
       "      <td>none</td>\n",
       "      <td>own</td>\n",
       "      <td>1</td>\n",
       "      <td>2</td>\n",
       "      <td>1</td>\n",
       "      <td>none</td>\n",
       "      <td>yes</td>\n",
       "      <td>skilled employee</td>\n",
       "    </tr>\n",
       "    <tr>\n",
       "      <th>2</th>\n",
       "      <td>unknown</td>\n",
       "      <td>12</td>\n",
       "      <td>critical</td>\n",
       "      <td>education</td>\n",
       "      <td>2096</td>\n",
       "      <td>&lt; 100 DM</td>\n",
       "      <td>4 - 7 yrs</td>\n",
       "      <td>2</td>\n",
       "      <td>single male</td>\n",
       "      <td>none</td>\n",
       "      <td>...</td>\n",
       "      <td>real estate</td>\n",
       "      <td>49</td>\n",
       "      <td>none</td>\n",
       "      <td>own</td>\n",
       "      <td>1</td>\n",
       "      <td>1</td>\n",
       "      <td>2</td>\n",
       "      <td>none</td>\n",
       "      <td>yes</td>\n",
       "      <td>unskilled resident</td>\n",
       "    </tr>\n",
       "    <tr>\n",
       "      <th>3</th>\n",
       "      <td>&lt; 0 DM</td>\n",
       "      <td>42</td>\n",
       "      <td>repaid</td>\n",
       "      <td>furniture</td>\n",
       "      <td>7882</td>\n",
       "      <td>&lt; 100 DM</td>\n",
       "      <td>4 - 7 yrs</td>\n",
       "      <td>2</td>\n",
       "      <td>single male</td>\n",
       "      <td>guarantor</td>\n",
       "      <td>...</td>\n",
       "      <td>building society savings</td>\n",
       "      <td>45</td>\n",
       "      <td>none</td>\n",
       "      <td>for free</td>\n",
       "      <td>1</td>\n",
       "      <td>1</td>\n",
       "      <td>2</td>\n",
       "      <td>none</td>\n",
       "      <td>yes</td>\n",
       "      <td>skilled employee</td>\n",
       "    </tr>\n",
       "    <tr>\n",
       "      <th>4</th>\n",
       "      <td>&lt; 0 DM</td>\n",
       "      <td>24</td>\n",
       "      <td>delayed</td>\n",
       "      <td>car (new)</td>\n",
       "      <td>4870</td>\n",
       "      <td>&lt; 100 DM</td>\n",
       "      <td>1 - 4 yrs</td>\n",
       "      <td>3</td>\n",
       "      <td>single male</td>\n",
       "      <td>none</td>\n",
       "      <td>...</td>\n",
       "      <td>unknown/none</td>\n",
       "      <td>53</td>\n",
       "      <td>none</td>\n",
       "      <td>for free</td>\n",
       "      <td>2</td>\n",
       "      <td>2</td>\n",
       "      <td>2</td>\n",
       "      <td>none</td>\n",
       "      <td>yes</td>\n",
       "      <td>skilled employee</td>\n",
       "    </tr>\n",
       "  </tbody>\n",
       "</table>\n",
       "<p>5 rows × 21 columns</p>\n",
       "</div>"
      ],
      "text/plain": [
       "  checking_balance  months_loan_duration credit_history    purpose  amount  \\\n",
       "0           < 0 DM                     6       critical   radio/tv    1169   \n",
       "1       1 - 200 DM                    48         repaid   radio/tv    5951   \n",
       "2          unknown                    12       critical  education    2096   \n",
       "3           < 0 DM                    42         repaid  furniture    7882   \n",
       "4           < 0 DM                    24        delayed  car (new)    4870   \n",
       "\n",
       "  savings_balance employment_length  installment_rate personal_status  \\\n",
       "0         unknown           > 7 yrs                 4     single male   \n",
       "1        < 100 DM         1 - 4 yrs                 2          female   \n",
       "2        < 100 DM         4 - 7 yrs                 2     single male   \n",
       "3        < 100 DM         4 - 7 yrs                 2     single male   \n",
       "4        < 100 DM         1 - 4 yrs                 3     single male   \n",
       "\n",
       "  other_debtors  ...                  property age  installment_plan  \\\n",
       "0          none  ...               real estate  67              none   \n",
       "1          none  ...               real estate  22              none   \n",
       "2          none  ...               real estate  49              none   \n",
       "3     guarantor  ...  building society savings  45              none   \n",
       "4          none  ...              unknown/none  53              none   \n",
       "\n",
       "    housing existing_credits  default  dependents  telephone foreign_worker  \\\n",
       "0       own                2        1           1        yes            yes   \n",
       "1       own                1        2           1       none            yes   \n",
       "2       own                1        1           2       none            yes   \n",
       "3  for free                1        1           2       none            yes   \n",
       "4  for free                2        2           2       none            yes   \n",
       "\n",
       "                  job  \n",
       "0    skilled employee  \n",
       "1    skilled employee  \n",
       "2  unskilled resident  \n",
       "3    skilled employee  \n",
       "4    skilled employee  \n",
       "\n",
       "[5 rows x 21 columns]"
      ]
     },
     "execution_count": 478,
     "metadata": {},
     "output_type": "execute_result"
    }
   ],
   "source": [
    "# uploadng our dataset from the local directory\n",
    "df = pd.read_csv(r'C:/Users/test/Documents/tochora/dd/datasets/credit-default.csv')\n",
    "df.head()"
   ]
  },
  {
   "cell_type": "code",
   "execution_count": 479,
   "metadata": {},
   "outputs": [
    {
     "data": {
      "text/plain": [
       "Index(['checking_balance', 'months_loan_duration', 'credit_history', 'purpose',\n",
       "       'amount', 'savings_balance', 'employment_length', 'installment_rate',\n",
       "       'personal_status', 'other_debtors', 'residence_history', 'property',\n",
       "       'age', 'installment_plan', 'housing', 'existing_credits', 'default',\n",
       "       'dependents', 'telephone', 'foreign_worker', 'job'],\n",
       "      dtype='object')"
      ]
     },
     "execution_count": 479,
     "metadata": {},
     "output_type": "execute_result"
    }
   ],
   "source": [
    "# various columns in our dataset\n",
    "df.columns"
   ]
  },
  {
   "cell_type": "code",
   "execution_count": 480,
   "metadata": {},
   "outputs": [
    {
     "data": {
      "text/plain": [
       "(1000, 21)"
      ]
     },
     "execution_count": 480,
     "metadata": {},
     "output_type": "execute_result"
    }
   ],
   "source": [
    "# shape of our dataset\n",
    "df.shape"
   ]
  },
  {
   "cell_type": "markdown",
   "metadata": {},
   "source": [
    "our dataset has 1000 rows and 21 columns"
   ]
  },
  {
   "cell_type": "code",
   "execution_count": 481,
   "metadata": {},
   "outputs": [
    {
     "data": {
      "text/plain": [
       "checking_balance        0\n",
       "months_loan_duration    0\n",
       "credit_history          0\n",
       "purpose                 0\n",
       "amount                  0\n",
       "savings_balance         0\n",
       "employment_length       0\n",
       "installment_rate        0\n",
       "personal_status         0\n",
       "other_debtors           0\n",
       "residence_history       0\n",
       "property                0\n",
       "age                     0\n",
       "installment_plan        0\n",
       "housing                 0\n",
       "existing_credits        0\n",
       "default                 0\n",
       "dependents              0\n",
       "telephone               0\n",
       "foreign_worker          0\n",
       "job                     0\n",
       "dtype: int64"
      ]
     },
     "execution_count": 481,
     "metadata": {},
     "output_type": "execute_result"
    }
   ],
   "source": [
    "# missing values\n",
    "df.isnull().sum()"
   ]
  },
  {
   "cell_type": "markdown",
   "metadata": {},
   "source": [
    "variables in our dataset does not have any non values "
   ]
  },
  {
   "cell_type": "code",
   "execution_count": 482,
   "metadata": {},
   "outputs": [
    {
     "data": {
      "text/html": [
       "<style type=\"text/css\">\n",
       "#T_b9289_row0_col0, #T_b9289_row0_col7, #T_b9289_row1_col0, #T_b9289_row2_col0, #T_b9289_row2_col1, #T_b9289_row2_col2, #T_b9289_row2_col3, #T_b9289_row2_col4, #T_b9289_row2_col5, #T_b9289_row2_col6, #T_b9289_row2_col7, #T_b9289_row3_col0, #T_b9289_row3_col1, #T_b9289_row3_col2, #T_b9289_row3_col3, #T_b9289_row3_col4, #T_b9289_row3_col5, #T_b9289_row3_col6, #T_b9289_row3_col7, #T_b9289_row4_col0, #T_b9289_row4_col2, #T_b9289_row5_col0, #T_b9289_row5_col1, #T_b9289_row5_col2, #T_b9289_row5_col3, #T_b9289_row5_col4, #T_b9289_row5_col5, #T_b9289_row5_col6, #T_b9289_row5_col7, #T_b9289_row6_col0, #T_b9289_row6_col1, #T_b9289_row6_col2, #T_b9289_row6_col3, #T_b9289_row6_col4, #T_b9289_row6_col5, #T_b9289_row6_col6, #T_b9289_row6_col7, #T_b9289_row7_col0, #T_b9289_row7_col1, #T_b9289_row7_col2, #T_b9289_row7_col3, #T_b9289_row7_col4, #T_b9289_row7_col5, #T_b9289_row7_col6, #T_b9289_row7_col7 {\n",
       "  background-color: #fff7fb;\n",
       "  color: #000000;\n",
       "}\n",
       "#T_b9289_row0_col1, #T_b9289_row0_col2, #T_b9289_row0_col5, #T_b9289_row0_col6, #T_b9289_row4_col7 {\n",
       "  background-color: #fef6fb;\n",
       "  color: #000000;\n",
       "}\n",
       "#T_b9289_row0_col3, #T_b9289_row4_col4, #T_b9289_row4_col5 {\n",
       "  background-color: #fdf5fa;\n",
       "  color: #000000;\n",
       "}\n",
       "#T_b9289_row0_col4, #T_b9289_row4_col1, #T_b9289_row4_col6 {\n",
       "  background-color: #fef6fa;\n",
       "  color: #000000;\n",
       "}\n",
       "#T_b9289_row1_col1, #T_b9289_row1_col2, #T_b9289_row1_col3, #T_b9289_row1_col4, #T_b9289_row1_col5, #T_b9289_row1_col6, #T_b9289_row1_col7 {\n",
       "  background-color: #023858;\n",
       "  color: #f1f1f1;\n",
       "}\n",
       "#T_b9289_row4_col3 {\n",
       "  background-color: #f4eef6;\n",
       "  color: #000000;\n",
       "}\n",
       "</style>\n",
       "<table id=\"T_b9289\">\n",
       "  <thead>\n",
       "    <tr>\n",
       "      <th class=\"blank level0\" >&nbsp;</th>\n",
       "      <th id=\"T_b9289_level0_col0\" class=\"col_heading level0 col0\" >count</th>\n",
       "      <th id=\"T_b9289_level0_col1\" class=\"col_heading level0 col1\" >mean</th>\n",
       "      <th id=\"T_b9289_level0_col2\" class=\"col_heading level0 col2\" >std</th>\n",
       "      <th id=\"T_b9289_level0_col3\" class=\"col_heading level0 col3\" >min</th>\n",
       "      <th id=\"T_b9289_level0_col4\" class=\"col_heading level0 col4\" >25%</th>\n",
       "      <th id=\"T_b9289_level0_col5\" class=\"col_heading level0 col5\" >50%</th>\n",
       "      <th id=\"T_b9289_level0_col6\" class=\"col_heading level0 col6\" >75%</th>\n",
       "      <th id=\"T_b9289_level0_col7\" class=\"col_heading level0 col7\" >max</th>\n",
       "    </tr>\n",
       "  </thead>\n",
       "  <tbody>\n",
       "    <tr>\n",
       "      <th id=\"T_b9289_level0_row0\" class=\"row_heading level0 row0\" >months_loan_duration</th>\n",
       "      <td id=\"T_b9289_row0_col0\" class=\"data row0 col0\" >1000.000000</td>\n",
       "      <td id=\"T_b9289_row0_col1\" class=\"data row0 col1\" >20.903000</td>\n",
       "      <td id=\"T_b9289_row0_col2\" class=\"data row0 col2\" >12.058814</td>\n",
       "      <td id=\"T_b9289_row0_col3\" class=\"data row0 col3\" >4.000000</td>\n",
       "      <td id=\"T_b9289_row0_col4\" class=\"data row0 col4\" >12.000000</td>\n",
       "      <td id=\"T_b9289_row0_col5\" class=\"data row0 col5\" >18.000000</td>\n",
       "      <td id=\"T_b9289_row0_col6\" class=\"data row0 col6\" >24.000000</td>\n",
       "      <td id=\"T_b9289_row0_col7\" class=\"data row0 col7\" >72.000000</td>\n",
       "    </tr>\n",
       "    <tr>\n",
       "      <th id=\"T_b9289_level0_row1\" class=\"row_heading level0 row1\" >amount</th>\n",
       "      <td id=\"T_b9289_row1_col0\" class=\"data row1 col0\" >1000.000000</td>\n",
       "      <td id=\"T_b9289_row1_col1\" class=\"data row1 col1\" >3271.258000</td>\n",
       "      <td id=\"T_b9289_row1_col2\" class=\"data row1 col2\" >2822.736876</td>\n",
       "      <td id=\"T_b9289_row1_col3\" class=\"data row1 col3\" >250.000000</td>\n",
       "      <td id=\"T_b9289_row1_col4\" class=\"data row1 col4\" >1365.500000</td>\n",
       "      <td id=\"T_b9289_row1_col5\" class=\"data row1 col5\" >2319.500000</td>\n",
       "      <td id=\"T_b9289_row1_col6\" class=\"data row1 col6\" >3972.250000</td>\n",
       "      <td id=\"T_b9289_row1_col7\" class=\"data row1 col7\" >18424.000000</td>\n",
       "    </tr>\n",
       "    <tr>\n",
       "      <th id=\"T_b9289_level0_row2\" class=\"row_heading level0 row2\" >installment_rate</th>\n",
       "      <td id=\"T_b9289_row2_col0\" class=\"data row2 col0\" >1000.000000</td>\n",
       "      <td id=\"T_b9289_row2_col1\" class=\"data row2 col1\" >2.973000</td>\n",
       "      <td id=\"T_b9289_row2_col2\" class=\"data row2 col2\" >1.118715</td>\n",
       "      <td id=\"T_b9289_row2_col3\" class=\"data row2 col3\" >1.000000</td>\n",
       "      <td id=\"T_b9289_row2_col4\" class=\"data row2 col4\" >2.000000</td>\n",
       "      <td id=\"T_b9289_row2_col5\" class=\"data row2 col5\" >3.000000</td>\n",
       "      <td id=\"T_b9289_row2_col6\" class=\"data row2 col6\" >4.000000</td>\n",
       "      <td id=\"T_b9289_row2_col7\" class=\"data row2 col7\" >4.000000</td>\n",
       "    </tr>\n",
       "    <tr>\n",
       "      <th id=\"T_b9289_level0_row3\" class=\"row_heading level0 row3\" >residence_history</th>\n",
       "      <td id=\"T_b9289_row3_col0\" class=\"data row3 col0\" >1000.000000</td>\n",
       "      <td id=\"T_b9289_row3_col1\" class=\"data row3 col1\" >2.845000</td>\n",
       "      <td id=\"T_b9289_row3_col2\" class=\"data row3 col2\" >1.103718</td>\n",
       "      <td id=\"T_b9289_row3_col3\" class=\"data row3 col3\" >1.000000</td>\n",
       "      <td id=\"T_b9289_row3_col4\" class=\"data row3 col4\" >2.000000</td>\n",
       "      <td id=\"T_b9289_row3_col5\" class=\"data row3 col5\" >3.000000</td>\n",
       "      <td id=\"T_b9289_row3_col6\" class=\"data row3 col6\" >4.000000</td>\n",
       "      <td id=\"T_b9289_row3_col7\" class=\"data row3 col7\" >4.000000</td>\n",
       "    </tr>\n",
       "    <tr>\n",
       "      <th id=\"T_b9289_level0_row4\" class=\"row_heading level0 row4\" >age</th>\n",
       "      <td id=\"T_b9289_row4_col0\" class=\"data row4 col0\" >1000.000000</td>\n",
       "      <td id=\"T_b9289_row4_col1\" class=\"data row4 col1\" >35.546000</td>\n",
       "      <td id=\"T_b9289_row4_col2\" class=\"data row4 col2\" >11.375469</td>\n",
       "      <td id=\"T_b9289_row4_col3\" class=\"data row4 col3\" >19.000000</td>\n",
       "      <td id=\"T_b9289_row4_col4\" class=\"data row4 col4\" >27.000000</td>\n",
       "      <td id=\"T_b9289_row4_col5\" class=\"data row4 col5\" >33.000000</td>\n",
       "      <td id=\"T_b9289_row4_col6\" class=\"data row4 col6\" >42.000000</td>\n",
       "      <td id=\"T_b9289_row4_col7\" class=\"data row4 col7\" >75.000000</td>\n",
       "    </tr>\n",
       "    <tr>\n",
       "      <th id=\"T_b9289_level0_row5\" class=\"row_heading level0 row5\" >existing_credits</th>\n",
       "      <td id=\"T_b9289_row5_col0\" class=\"data row5 col0\" >1000.000000</td>\n",
       "      <td id=\"T_b9289_row5_col1\" class=\"data row5 col1\" >1.407000</td>\n",
       "      <td id=\"T_b9289_row5_col2\" class=\"data row5 col2\" >0.577654</td>\n",
       "      <td id=\"T_b9289_row5_col3\" class=\"data row5 col3\" >1.000000</td>\n",
       "      <td id=\"T_b9289_row5_col4\" class=\"data row5 col4\" >1.000000</td>\n",
       "      <td id=\"T_b9289_row5_col5\" class=\"data row5 col5\" >1.000000</td>\n",
       "      <td id=\"T_b9289_row5_col6\" class=\"data row5 col6\" >2.000000</td>\n",
       "      <td id=\"T_b9289_row5_col7\" class=\"data row5 col7\" >4.000000</td>\n",
       "    </tr>\n",
       "    <tr>\n",
       "      <th id=\"T_b9289_level0_row6\" class=\"row_heading level0 row6\" >default</th>\n",
       "      <td id=\"T_b9289_row6_col0\" class=\"data row6 col0\" >1000.000000</td>\n",
       "      <td id=\"T_b9289_row6_col1\" class=\"data row6 col1\" >1.300000</td>\n",
       "      <td id=\"T_b9289_row6_col2\" class=\"data row6 col2\" >0.458487</td>\n",
       "      <td id=\"T_b9289_row6_col3\" class=\"data row6 col3\" >1.000000</td>\n",
       "      <td id=\"T_b9289_row6_col4\" class=\"data row6 col4\" >1.000000</td>\n",
       "      <td id=\"T_b9289_row6_col5\" class=\"data row6 col5\" >1.000000</td>\n",
       "      <td id=\"T_b9289_row6_col6\" class=\"data row6 col6\" >2.000000</td>\n",
       "      <td id=\"T_b9289_row6_col7\" class=\"data row6 col7\" >2.000000</td>\n",
       "    </tr>\n",
       "    <tr>\n",
       "      <th id=\"T_b9289_level0_row7\" class=\"row_heading level0 row7\" >dependents</th>\n",
       "      <td id=\"T_b9289_row7_col0\" class=\"data row7 col0\" >1000.000000</td>\n",
       "      <td id=\"T_b9289_row7_col1\" class=\"data row7 col1\" >1.155000</td>\n",
       "      <td id=\"T_b9289_row7_col2\" class=\"data row7 col2\" >0.362086</td>\n",
       "      <td id=\"T_b9289_row7_col3\" class=\"data row7 col3\" >1.000000</td>\n",
       "      <td id=\"T_b9289_row7_col4\" class=\"data row7 col4\" >1.000000</td>\n",
       "      <td id=\"T_b9289_row7_col5\" class=\"data row7 col5\" >1.000000</td>\n",
       "      <td id=\"T_b9289_row7_col6\" class=\"data row7 col6\" >1.000000</td>\n",
       "      <td id=\"T_b9289_row7_col7\" class=\"data row7 col7\" >2.000000</td>\n",
       "    </tr>\n",
       "  </tbody>\n",
       "</table>\n"
      ],
      "text/plain": [
       "<pandas.io.formats.style.Styler at 0x2dc1ed70490>"
      ]
     },
     "execution_count": 482,
     "metadata": {},
     "output_type": "execute_result"
    }
   ],
   "source": [
    "# statistics\n",
    "df.describe().T.style.background_gradient()"
   ]
  },
  {
   "cell_type": "code",
   "execution_count": 483,
   "metadata": {},
   "outputs": [
    {
     "data": {
      "text/plain": [
       "Index(['checking_balance', 'months_loan_duration', 'credit_history', 'purpose',\n",
       "       'amount', 'savings_balance', 'employment_length', 'installment_rate',\n",
       "       'personal_status', 'other_debtors', 'residence_history', 'property',\n",
       "       'age', 'installment_plan', 'housing', 'existing_credits', 'default',\n",
       "       'dependents', 'telephone', 'foreign_worker', 'job'],\n",
       "      dtype='object')"
      ]
     },
     "execution_count": 483,
     "metadata": {},
     "output_type": "execute_result"
    }
   ],
   "source": [
    "df.columns"
   ]
  },
  {
   "cell_type": "code",
   "execution_count": 484,
   "metadata": {},
   "outputs": [],
   "source": [
    "df['job'].replace('mangement self-employed', 'self_employed', inplace=True)"
   ]
  },
  {
   "cell_type": "markdown",
   "metadata": {},
   "source": [
    "Data Visualization"
   ]
  },
  {
   "cell_type": "code",
   "execution_count": 485,
   "metadata": {},
   "outputs": [
    {
     "data": {
      "image/png": "[encoded data removed]",
      "text/plain": [
       "<Figure size 576x432 with 1 Axes>"
      ]
     },
     "metadata": {
      "needs_background": "light"
     },
     "output_type": "display_data"
    }
   ],
   "source": [
    "\n",
    "plt.figure(figsize=(8, 6))\n",
    "sns.barplot(x=df['amount'],y=df['job'])\n",
    "plt.show()"
   ]
  },
  {
   "cell_type": "markdown",
   "metadata": {},
   "source": [
    "Employees who are self_employed took the highest amount of credit of  approximately 5500 while the unskilled employees took the lowest credit of amount approximately 2200."
   ]
  },
  {
   "cell_type": "code",
   "execution_count": 486,
   "metadata": {},
   "outputs": [
    {
     "data": {
      "image/png": "[encoded data removed]",
      "text/plain": [
       "<Figure size 576x432 with 1 Axes>"
      ]
     },
     "metadata": {
      "needs_background": "light"
     },
     "output_type": "display_data"
    }
   ],
   "source": [
    "plt.figure(figsize=(8, 6))\n",
    "sns.barplot(x=df['employment_length'],y=df['age'])\n",
    "plt.show()"
   ]
  },
  {
   "cell_type": "markdown",
   "metadata": {},
   "source": [
    "Respondents who were aged above 40 made the biggest chunk of employees working less than 7 years while those aged 30 and below made up those who employment length is between 0 to 1 year."
   ]
  },
  {
   "cell_type": "code",
   "execution_count": 487,
   "metadata": {},
   "outputs": [
    {
     "data": {
      "image/png": "[encoded data removed]",
      "text/plain": [
       "<Figure size 576x432 with 1 Axes>"
      ]
     },
     "metadata": {
      "needs_background": "light"
     },
     "output_type": "display_data"
    }
   ],
   "source": [
    "plt.figure(figsize=(8, 6))\n",
    "sns.barplot(x=df['credit_history'], y=df['amount'], ci=7)\n",
    "plt.show()"
   ]
  },
  {
   "cell_type": "markdown",
   "metadata": {},
   "source": [
    "Those respondents who  took credit of more than 5000 fully repaid their loan while those who took approximately 3000 were either categorised as critical or repaying."
   ]
  },
  {
   "cell_type": "code",
   "execution_count": 488,
   "metadata": {},
   "outputs": [
    {
     "data": {
      "text/plain": [
       "unknown       394\n",
       "< 0 DM        274\n",
       "1 - 200 DM    269\n",
       "> 200 DM       63\n",
       "Name: checking_balance, dtype: int64"
      ]
     },
     "execution_count": 488,
     "metadata": {},
     "output_type": "execute_result"
    }
   ],
   "source": [
    "df.checking_balance.value_counts()"
   ]
  },
  {
   "cell_type": "code",
   "execution_count": 489,
   "metadata": {},
   "outputs": [
    {
     "data": {
      "image/png": "[encoded data removed]",
      "text/plain": [
       "<Figure size 576x432 with 1 Axes>"
      ]
     },
     "metadata": {
      "needs_background": "light"
     },
     "output_type": "display_data"
    }
   ],
   "source": [
    "plt.figure(figsize=(8, 6))\n",
    "sns.countplot(x=df['checking_balance'])\n",
    "plt.show()"
   ]
  },
  {
   "cell_type": "markdown",
   "metadata": {},
   "source": [
    "Respondents who checked their credit balance the highest were those considered unknown while the smallest were those who checked their balances less than 200 DM"
   ]
  },
  {
   "cell_type": "code",
   "execution_count": 490,
   "metadata": {},
   "outputs": [
    {
     "data": {
      "text/plain": [
       "radio/tv               280\n",
       "car (new)              234\n",
       "furniture              181\n",
       "car (used)             103\n",
       "business                97\n",
       "education               50\n",
       "repairs                 22\n",
       "domestic appliances     12\n",
       "others                  12\n",
       "retraining               9\n",
       "Name: purpose, dtype: int64"
      ]
     },
     "execution_count": 490,
     "metadata": {},
     "output_type": "execute_result"
    }
   ],
   "source": [
    "df.purpose.value_counts()"
   ]
  },
  {
   "cell_type": "code",
   "execution_count": 491,
   "metadata": {},
   "outputs": [
    {
     "data": {
      "image/png": "[encoded data removed]",
      "text/plain": [
       "<Figure size 864x576 with 1 Axes>"
      ]
     },
     "metadata": {
      "needs_background": "light"
     },
     "output_type": "display_data"
    }
   ],
   "source": [
    "plt.figure(figsize=(12, 8))\n",
    "plt.title('ljdjf')\n",
    "purpose = sns.countplot(x='purpose', data=df, order=df['purpose'].value_counts().index[:10])\n",
    "purpose.set_xticklabels(purpose.get_xticklabels(), rotation=45)\n",
    "plt.show()"
   ]
  },
  {
   "cell_type": "markdown",
   "metadata": {},
   "source": [
    "Respondents who took credit on purpose of buying or servicing radios and TVs made the highest distribution of credit taken while those who took credit for retraining made the smallest distribution of total respondents."
   ]
  },
  {
   "cell_type": "code",
   "execution_count": 492,
   "metadata": {},
   "outputs": [
    {
     "data": {
      "text/plain": [
       "Index(['checking_balance', 'months_loan_duration', 'credit_history', 'purpose',\n",
       "       'amount', 'savings_balance', 'employment_length', 'installment_rate',\n",
       "       'personal_status', 'other_debtors', 'residence_history', 'property',\n",
       "       'age', 'installment_plan', 'housing', 'existing_credits', 'default',\n",
       "       'dependents', 'telephone', 'foreign_worker', 'job'],\n",
       "      dtype='object')"
      ]
     },
     "execution_count": 492,
     "metadata": {},
     "output_type": "execute_result"
    }
   ],
   "source": [
    "df.columns"
   ]
  },
  {
   "cell_type": "code",
   "execution_count": 493,
   "metadata": {},
   "outputs": [],
   "source": [
    "df.credit_history.value_counts()\n",
    "df['credit_history'].replace('repaid','repaying', inplace=True)"
   ]
  },
  {
   "cell_type": "code",
   "execution_count": 494,
   "metadata": {},
   "outputs": [
    {
     "data": {
      "image/png": "[encoded data removed]",
      "text/plain": [
       "<Figure size 576x432 with 1 Axes>"
      ]
     },
     "metadata": {
      "needs_background": "light"
     },
     "output_type": "display_data"
    }
   ],
   "source": [
    "plt.figure(figsize=(8,6))\n",
    "cr_history = sns.countplot(x='credit_history',data=df, order=df['credit_history'].value_counts().index[:5])\n",
    "cr_history.set_xticklabels(cr_history.get_xticklabels(),rotation=45)\n",
    "plt.show()"
   ]
  },
  {
   "cell_type": "markdown",
   "metadata": {},
   "source": [
    "Respondents who were repaying their credit formed the highest distribution of ovearll credit while those who have fully repaid formed the smallest distribution of loanees."
   ]
  },
  {
   "cell_type": "code",
   "execution_count": 495,
   "metadata": {},
   "outputs": [
    {
     "name": "stdout",
     "output_type": "stream",
     "text": [
      "1 - 4 yrs     339\n",
      "> 7 yrs       253\n",
      "4 - 7 yrs     174\n",
      "0 - 1 yrs     172\n",
      "unemployed     62\n",
      "Name: employment_length, dtype: int64\n"
     ]
    },
    {
     "data": {
      "image/png": "[encoded data removed]",
      "text/plain": [
       "<Figure size 576x432 with 1 Axes>"
      ]
     },
     "metadata": {
      "needs_background": "light"
     },
     "output_type": "display_data"
    }
   ],
   "source": [
    "print(df.employment_length.value_counts())\n",
    "plt.figure(figsize=(8, 6))\n",
    "sns.countplot(x=df['employment_length'])\n",
    "plt.show()\n"
   ]
  },
  {
   "cell_type": "markdown",
   "metadata": {},
   "source": [
    "Respondents who employment length was 1 - 4 years had the highest distribution while those who were unemployed formed the smallest distribution."
   ]
  },
  {
   "cell_type": "code",
   "execution_count": 496,
   "metadata": {},
   "outputs": [
    {
     "data": {
      "text/plain": [
       "no_plan    814\n",
       "bank       139\n",
       "stores      47\n",
       "Name: installment_plan, dtype: int64"
      ]
     },
     "execution_count": 496,
     "metadata": {},
     "output_type": "execute_result"
    }
   ],
   "source": [
    "\n",
    "df['installment_plan'].replace('none', 'no_plan', inplace=True)\n",
    "df.installment_plan.value_counts()"
   ]
  },
  {
   "cell_type": "code",
   "execution_count": 497,
   "metadata": {},
   "outputs": [
    {
     "data": {
      "image/png": "[encoded data removed]",
      "text/plain": [
       "<Figure size 576x576 with 1 Axes>"
      ]
     },
     "metadata": {},
     "output_type": "display_data"
    }
   ],
   "source": [
    "plt.figure(figsize=(8,8))\n",
    "plt.title('variables in installment plan and their composition')\n",
    "plt.pie(df['installment_plan'].value_counts(), labels=df['installment_plan'].unique(), autopct='%.1f%%', startangle=90, textprops={'color':'white'})\n",
    "plt.show()"
   ]
  },
  {
   "cell_type": "markdown",
   "metadata": {},
   "source": [
    "Respondents who had no installment_plan formed the highest of number  respondent in the survey with a composition of  81.4% while those who used store to make installments made the smallest composition of respondents with 4.7%"
   ]
  },
  {
   "cell_type": "code",
   "execution_count": 498,
   "metadata": {},
   "outputs": [
    {
     "data": {
      "image/png": "[encoded data removed]",
      "text/plain": [
       "<Figure size 432x432 with 1 Axes>"
      ]
     },
     "metadata": {},
     "output_type": "display_data"
    }
   ],
   "source": [
    "plt.figure(figsize=(6, 6))\n",
    "plt.pie(df['housing'].value_counts(), labels=df['housing'].unique(),autopct='%.1f%%',startangle=90,textprops={'color':'white'})\n",
    "plt.title('variables in housing and their composition')\n",
    "plt.show()"
   ]
  },
  {
   "cell_type": "markdown",
   "metadata": {},
   "source": [
    "Respondents who had their own homes made the highest composition 71.3 % of total respondents while those who were paying rent were the smallest of total respondents with  10.8 %."
   ]
  },
  {
   "cell_type": "code",
   "execution_count": 499,
   "metadata": {},
   "outputs": [
    {
     "data": {
      "image/png": "[encoded data removed]",
      "text/plain": [
       "<Figure size 576x576 with 1 Axes>"
      ]
     },
     "metadata": {},
     "output_type": "display_data"
    }
   ],
   "source": [
    "plt.figure(figsize=(8, 8))\n",
    "plt.pie(df['personal_status'].value_counts(), labels=df['personal_status'].unique(),autopct='%.1f%%',startangle=90)\n",
    "plt.title('Composition of variables in personal status')\n",
    "plt.show()"
   ]
  },
  {
   "cell_type": "markdown",
   "metadata": {},
   "source": [
    "Single males made the highest composition of respondents with a percentage 0f 54.8 while married males had the smallest composition of 5% of the total respondents"
   ]
  },
  {
   "cell_type": "code",
   "execution_count": 500,
   "metadata": {},
   "outputs": [
    {
     "data": {
      "image/png": "[encoded data removed]",
      "text/plain": [
       "<Figure size 576x576 with 2 Axes>"
      ]
     },
     "metadata": {
      "needs_background": "light"
     },
     "output_type": "display_data"
    }
   ],
   "source": [
    "# correlation\n",
    "plt.figure(figsize=(8, 8))\n",
    "dff = df[['months_loan_duration', 'installment_rate', 'amount','residence_history', 'default']]\n",
    "sns.heatmap(dff.corr(), annot=True)\n",
    "plt.show()"
   ]
  },
  {
   "cell_type": "markdown",
   "metadata": {},
   "source": [
    "Month_loan_duration  and amount had the highest correlation of 62% while default and resindence history had the smallest correlation of 0.3%.\n",
    "Month_loan duration are positive  fairly correlated with amount thus when amount increases, months length duration also increases.\n",
    "Residence history and default are positive weak correlated showing that when defaults increase, residence history does not influence the rate of defaults amongst loanes."
   ]
  },
  {
   "cell_type": "code",
   "execution_count": 501,
   "metadata": {},
   "outputs": [
    {
     "data": {
      "text/plain": [
       "Index(['checking_balance', 'months_loan_duration', 'credit_history', 'purpose',\n",
       "       'amount', 'savings_balance', 'employment_length', 'installment_rate',\n",
       "       'personal_status', 'other_debtors', 'residence_history', 'property',\n",
       "       'age', 'installment_plan', 'housing', 'existing_credits', 'default',\n",
       "       'dependents', 'telephone', 'foreign_worker', 'job'],\n",
       "      dtype='object')"
      ]
     },
     "execution_count": 501,
     "metadata": {},
     "output_type": "execute_result"
    }
   ],
   "source": [
    "df.columns"
   ]
  },
  {
   "cell_type": "code",
   "execution_count": 502,
   "metadata": {},
   "outputs": [],
   "source": [
    "# Outlier analysis"
   ]
  },
  {
   "cell_type": "code",
   "execution_count": 503,
   "metadata": {},
   "outputs": [
    {
     "data": {
      "image/png": "[encoded data removed]",
      "text/plain": [
       "<Figure size 432x288 with 1 Axes>"
      ]
     },
     "metadata": {
      "needs_background": "light"
     },
     "output_type": "display_data"
    }
   ],
   "source": [
    "\n",
    "sns.boxplot(x=df['installment_rate'])\n",
    "plt.title('Outlier Detection in installment rate outlier')\n",
    "plt.show()"
   ]
  },
  {
   "cell_type": "code",
   "execution_count": 504,
   "metadata": {},
   "outputs": [
    {
     "data": {
      "image/png": "[encoded data removed]",
      "text/plain": [
       "<Figure size 432x288 with 1 Axes>"
      ]
     },
     "metadata": {
      "needs_background": "light"
     },
     "output_type": "display_data"
    }
   ],
   "source": [
    "sns.boxplot(x=df['months_loan_duration'])\n",
    "plt.title('Months loan duration outlier detection')\n",
    "plt.show()"
   ]
  },
  {
   "cell_type": "markdown",
   "metadata": {},
   "source": [
    "The above boxplots have few outliers thus they is no need of renoving them to avoid overfitiing our data"
   ]
  },
  {
   "cell_type": "code",
   "execution_count": 505,
   "metadata": {},
   "outputs": [
    {
     "data": {
      "image/png": "[encoded data removed]",
      "text/plain": [
       "<Figure size 432x288 with 1 Axes>"
      ]
     },
     "metadata": {
      "needs_background": "light"
     },
     "output_type": "display_data"
    }
   ],
   "source": [
    "sns.boxplot(x=df['amount'])\n",
    "plt.title('Detecting outliers in Amount')\n",
    "plt.show()"
   ]
  },
  {
   "cell_type": "markdown",
   "metadata": {},
   "source": [
    "The above boxplot shows it has alot of outliers which signify alot of noise in our dataset.We are going to come up with a fuction to remove them."
   ]
  },
  {
   "cell_type": "code",
   "execution_count": 506,
   "metadata": {},
   "outputs": [],
   "source": [
    "# function to remove outliers\n",
    "def remove_outliers(df, x):\n",
    "    q1 = np.percentile(df[x], 25)\n",
    "    q3 = np.percentile(df[x], 75)\n",
    "    iqr = q3 - q1\n",
    "    cut_off = iqr * 1.2\n",
    "    lower, upper = 1, (q3 + cut_off)\n",
    "    df = df[(df[x] > lower) & (df[x] < upper)]\n",
    "    print(f'Outliers of {x} has been removed')\n",
    "    return df"
   ]
  },
  {
   "cell_type": "code",
   "execution_count": 507,
   "metadata": {},
   "outputs": [
    {
     "name": "stdout",
     "output_type": "stream",
     "text": [
      "Outliers of amount has been removed\n"
     ]
    },
    {
     "data": {
      "text/plain": [
       "<AxesSubplot:xlabel='amount'>"
      ]
     },
     "execution_count": 507,
     "metadata": {},
     "output_type": "execute_result"
    },
    {
     "data": {
      "image/png": "[encoded data removed]",
      "text/plain": [
       "<Figure size 432x288 with 1 Axes>"
      ]
     },
     "metadata": {
      "needs_background": "light"
     },
     "output_type": "display_data"
    }
   ],
   "source": [
    "df = remove_outliers(df, 'amount')\n",
    "sns.boxplot(x=df['amount'])"
   ]
  },
  {
   "cell_type": "markdown",
   "metadata": {},
   "source": [
    "the anove boxplot shows we still have  few outliers. i left them purposely to avoid overfitiing our data."
   ]
  },
  {
   "cell_type": "code",
   "execution_count": 508,
   "metadata": {},
   "outputs": [
    {
     "data": {
      "text/plain": [
       "Text(0.5, 1.0, 'outlier Detection in age')"
      ]
     },
     "execution_count": 508,
     "metadata": {},
     "output_type": "execute_result"
    },
    {
     "data": {
      "image/png": "[encoded data removed]",
      "text/plain": [
       "<Figure size 432x288 with 1 Axes>"
      ]
     },
     "metadata": {
      "needs_background": "light"
     },
     "output_type": "display_data"
    }
   ],
   "source": [
    "sns.boxplot(x=df['age'])\n",
    "plt.title('outlier Detection in age')"
   ]
  },
  {
   "cell_type": "markdown",
   "metadata": {},
   "source": [
    "There are few ouliers in age thus there is no need of removing them."
   ]
  },
  {
   "cell_type": "code",
   "execution_count": 509,
   "metadata": {},
   "outputs": [
    {
     "data": {
      "text/plain": [
       "(896, 21)"
      ]
     },
     "execution_count": 509,
     "metadata": {},
     "output_type": "execute_result"
    }
   ],
   "source": [
    "# shape of our dataset\n",
    "df.shape"
   ]
  },
  {
   "cell_type": "markdown",
   "metadata": {},
   "source": [
    "our cleaned dataset now has 896 rows and 21 columns"
   ]
  },
  {
   "cell_type": "code",
   "execution_count": 510,
   "metadata": {},
   "outputs": [
    {
     "data": {
      "text/plain": [
       "1    646\n",
       "2    250\n",
       "Name: default, dtype: int64"
      ]
     },
     "execution_count": 510,
     "metadata": {},
     "output_type": "execute_result"
    }
   ],
   "source": [
    "df.default.value_counts()"
   ]
  },
  {
   "cell_type": "code",
   "execution_count": 511,
   "metadata": {},
   "outputs": [
    {
     "data": {
      "text/plain": [
       "checking_balance        object\n",
       "months_loan_duration     int64\n",
       "credit_history          object\n",
       "purpose                 object\n",
       "amount                   int64\n",
       "savings_balance         object\n",
       "employment_length       object\n",
       "installment_rate         int64\n",
       "personal_status         object\n",
       "other_debtors           object\n",
       "residence_history        int64\n",
       "property                object\n",
       "age                      int64\n",
       "installment_plan        object\n",
       "housing                 object\n",
       "existing_credits         int64\n",
       "default                  int64\n",
       "dependents               int64\n",
       "telephone               object\n",
       "foreign_worker          object\n",
       "job                     object\n",
       "dtype: object"
      ]
     },
     "execution_count": 511,
     "metadata": {},
     "output_type": "execute_result"
    }
   ],
   "source": [
    "df.dtypes"
   ]
  },
  {
   "cell_type": "code",
   "execution_count": 512,
   "metadata": {},
   "outputs": [
    {
     "data": {
      "text/html": [
       "<div>\n",
       "<style scoped>\n",
       "    .dataframe tbody tr th:only-of-type {\n",
       "        vertical-align: middle;\n",
       "    }\n",
       "\n",
       "    .dataframe tbody tr th {\n",
       "        vertical-align: top;\n",
       "    }\n",
       "\n",
       "    .dataframe thead th {\n",
       "        text-align: right;\n",
       "    }\n",
       "</style>\n",
       "<table border=\"1\" class=\"dataframe\">\n",
       "  <thead>\n",
       "    <tr style=\"text-align: right;\">\n",
       "      <th></th>\n",
       "      <th>amount</th>\n",
       "      <th>credit_history</th>\n",
       "      <th>dependents</th>\n",
       "      <th>housing</th>\n",
       "      <th>age</th>\n",
       "      <th>personal_status</th>\n",
       "      <th>installment_rate</th>\n",
       "      <th>property</th>\n",
       "      <th>job</th>\n",
       "      <th>existing_credits</th>\n",
       "      <th>default</th>\n",
       "    </tr>\n",
       "  </thead>\n",
       "  <tbody>\n",
       "    <tr>\n",
       "      <th>0</th>\n",
       "      <td>1169</td>\n",
       "      <td>critical</td>\n",
       "      <td>1</td>\n",
       "      <td>own</td>\n",
       "      <td>67</td>\n",
       "      <td>single male</td>\n",
       "      <td>4</td>\n",
       "      <td>real estate</td>\n",
       "      <td>skilled employee</td>\n",
       "      <td>2</td>\n",
       "      <td>1</td>\n",
       "    </tr>\n",
       "    <tr>\n",
       "      <th>1</th>\n",
       "      <td>5951</td>\n",
       "      <td>repaying</td>\n",
       "      <td>1</td>\n",
       "      <td>own</td>\n",
       "      <td>22</td>\n",
       "      <td>female</td>\n",
       "      <td>2</td>\n",
       "      <td>real estate</td>\n",
       "      <td>skilled employee</td>\n",
       "      <td>1</td>\n",
       "      <td>2</td>\n",
       "    </tr>\n",
       "    <tr>\n",
       "      <th>2</th>\n",
       "      <td>2096</td>\n",
       "      <td>critical</td>\n",
       "      <td>2</td>\n",
       "      <td>own</td>\n",
       "      <td>49</td>\n",
       "      <td>single male</td>\n",
       "      <td>2</td>\n",
       "      <td>real estate</td>\n",
       "      <td>unskilled resident</td>\n",
       "      <td>1</td>\n",
       "      <td>1</td>\n",
       "    </tr>\n",
       "    <tr>\n",
       "      <th>4</th>\n",
       "      <td>4870</td>\n",
       "      <td>delayed</td>\n",
       "      <td>2</td>\n",
       "      <td>for free</td>\n",
       "      <td>53</td>\n",
       "      <td>single male</td>\n",
       "      <td>3</td>\n",
       "      <td>unknown/none</td>\n",
       "      <td>skilled employee</td>\n",
       "      <td>2</td>\n",
       "      <td>2</td>\n",
       "    </tr>\n",
       "    <tr>\n",
       "      <th>6</th>\n",
       "      <td>2835</td>\n",
       "      <td>repaying</td>\n",
       "      <td>1</td>\n",
       "      <td>own</td>\n",
       "      <td>53</td>\n",
       "      <td>single male</td>\n",
       "      <td>3</td>\n",
       "      <td>building society savings</td>\n",
       "      <td>skilled employee</td>\n",
       "      <td>1</td>\n",
       "      <td>1</td>\n",
       "    </tr>\n",
       "  </tbody>\n",
       "</table>\n",
       "</div>"
      ],
      "text/plain": [
       "   amount credit_history  dependents   housing  age personal_status  \\\n",
       "0    1169       critical           1       own   67     single male   \n",
       "1    5951       repaying           1       own   22          female   \n",
       "2    2096       critical           2       own   49     single male   \n",
       "4    4870        delayed           2  for free   53     single male   \n",
       "6    2835       repaying           1       own   53     single male   \n",
       "\n",
       "   installment_rate                  property                 job  \\\n",
       "0                 4               real estate    skilled employee   \n",
       "1                 2               real estate    skilled employee   \n",
       "2                 2               real estate  unskilled resident   \n",
       "4                 3              unknown/none    skilled employee   \n",
       "6                 3  building society savings    skilled employee   \n",
       "\n",
       "   existing_credits  default  \n",
       "0                 2        1  \n",
       "1                 1        2  \n",
       "2                 1        1  \n",
       "4                 2        2  \n",
       "6                 1        1  "
      ]
     },
     "execution_count": 512,
     "metadata": {},
     "output_type": "execute_result"
    }
   ],
   "source": [
    "# appropriate variables to use as our dataset\n",
    "dff = df[['amount', 'credit_history', 'dependents','housing', 'age', 'personal_status', 'installment_rate',\n",
    "'property', 'job', 'existing_credits', 'default']]\n",
    "dff.head()"
   ]
  },
  {
   "cell_type": "code",
   "execution_count": 513,
   "metadata": {},
   "outputs": [],
   "source": [
    "#dff['credit_history'] = pd.Categorical(dff['credit_history']).codes\n",
    "#dff['housing'] = pd.Categorical(dff['housing']).codes\n",
    "#dff['personal_status'] = pd.Categorical(dff['personal_status']).codes\n",
    "#dff['property'] = pd.Categorical(dff['property']).codes\n",
    "#dff['job'] = pd.Categorical(dff['job']).codes\n",
    "#dff.head()\n"
   ]
  },
  {
   "cell_type": "code",
   "execution_count": 514,
   "metadata": {},
   "outputs": [],
   "source": [
    "# \n",
    "dff = pd.get_dummies(dff, drop_first=True)"
   ]
  },
  {
   "cell_type": "markdown",
   "metadata": {},
   "source": [
    "getting dummies of categorical variables in order to convert them from qulitative values into quantitative values"
   ]
  },
  {
   "cell_type": "code",
   "execution_count": 515,
   "metadata": {},
   "outputs": [],
   "source": [
    "# splitting our dataset into x and y variables\n",
    "x = dff.drop('default', axis=1)\n",
    "y = dff['default']"
   ]
  },
  {
   "cell_type": "code",
   "execution_count": 516,
   "metadata": {},
   "outputs": [],
   "source": [
    "# splitting our data into training and testing data\n",
    "from sklearn.model_selection import train_test_split\n",
    "x_train, x_test,y_train, y_test = train_test_split(x, y, test_size=0.20, random_state=40)\n",
    "# standardarsing our data into apprporiate form for our model\n",
    "from sklearn.preprocessing import StandardScaler\n",
    "sc = StandardScaler()\n",
    "x_train = sc.fit_transform(x_train)\n",
    "x_test = sc.transform(x_test)"
   ]
  },
  {
   "cell_type": "code",
   "execution_count": 517,
   "metadata": {},
   "outputs": [
    {
     "name": "stdout",
     "output_type": "stream",
     "text": [
      "0.7388888888888889\n"
     ]
    }
   ],
   "source": [
    "#modelling\n",
    "from sklearn.linear_model import LogisticRegression\n",
    "lr = LogisticRegression(random_state=0, solver='liblinear')\n",
    "#fitting our data\n",
    "lr.fit(x_train, y_train)\n",
    "acc = lr.score(x_test, y_test)\n",
    "print(acc)\n",
    "pred = lr.predict(x_test)"
   ]
  },
  {
   "cell_type": "markdown",
   "metadata": {},
   "source": [
    "Logistic regression gives us an accuracy of 74%"
   ]
  },
  {
   "cell_type": "code",
   "execution_count": 518,
   "metadata": {},
   "outputs": [
    {
     "name": "stdout",
     "output_type": "stream",
     "text": [
      "              precision    recall  f1-score   support\n",
      "\n",
      "           1       0.98      0.74      0.85       174\n",
      "           2       0.08      0.67      0.15         6\n",
      "\n",
      "    accuracy                           0.74       180\n",
      "   macro avg       0.53      0.70      0.50       180\n",
      "weighted avg       0.95      0.74      0.82       180\n",
      "\n"
     ]
    }
   ],
   "source": [
    "#classification report\n",
    "from sklearn.metrics import classification_report, confusion_matrix\n",
    "print(classification_report(pred, y_test))"
   ]
  },
  {
   "cell_type": "code",
   "execution_count": 519,
   "metadata": {},
   "outputs": [
    {
     "name": "stdout",
     "output_type": "stream",
     "text": [
      "[[129  45]\n",
      " [  2   4]]\n"
     ]
    }
   ],
   "source": [
    "print(confusion_matrix(pred, y_test))"
   ]
  },
  {
   "cell_type": "code",
   "execution_count": 520,
   "metadata": {},
   "outputs": [],
   "source": [
    "# tring another model to finf different results\n",
    "from sklearn.neighbors import KNeighborsClassifier\n",
    "knn = KNeighborsClassifier(n_neighbors=7)\n",
    "knn.fit(x_train,y_train)\n",
    "predd = knn.predict(x_test)"
   ]
  },
  {
   "cell_type": "code",
   "execution_count": 521,
   "metadata": {},
   "outputs": [
    {
     "name": "stdout",
     "output_type": "stream",
     "text": [
      "              precision    recall  f1-score   support\n",
      "\n",
      "           1       0.98      0.78      0.87       165\n",
      "           2       0.27      0.87      0.41        15\n",
      "\n",
      "    accuracy                           0.79       180\n",
      "   macro avg       0.63      0.82      0.64       180\n",
      "weighted avg       0.92      0.79      0.83       180\n",
      "\n"
     ]
    }
   ],
   "source": [
    "print(classification_report(predd,y_test))"
   ]
  },
  {
   "cell_type": "code",
   "execution_count": 522,
   "metadata": {},
   "outputs": [
    {
     "data": {
      "image/png": "[encoded data removed]",
      "text/plain": [
       "<Figure size 576x576 with 1 Axes>"
      ]
     },
     "metadata": {
      "needs_background": "light"
     },
     "output_type": "display_data"
    }
   ],
   "source": [
    "# a  to come up with the best value of n_neighbors for KNeighbors classsifier\n",
    "error_rate = []\n",
    "for i in range(1, 40):\n",
    "    knn = KNeighborsClassifier(n_neighbors=i)\n",
    "    knn.fit(x_train, y_train)\n",
    "    pred1 = knn.predict(x_test)\n",
    "    error_rate.append(np.mean(pred1 != y_test))\n",
    "# a plot of various values of n_neighbors in knn classifier\n",
    "plt.figure(figsize=(8, 8))\n",
    "plt.plot(range(1, 40), error_rate, markersize=5, markerfacecolor='blue', color='red', linestyle='dashed')\n",
    "plt.ylabel('error_rate')\n",
    "plt.xlabel('range of values')\n",
    "plt.title('N-neighbors variable values ')\n",
    "plt.show()\n"
   ]
  }
 ],
 "metadata": {
  "kernelspec": {
   "display_name": "Python 3.9.9 64-bit",
   "language": "python",
   "name": "python3"
  },
  "language_info": {
   "codemirror_mode": {
    "name": "ipython",
    "version": 3
   },
   "file_extension": ".py",
   "mimetype": "text/x-python",
   "name": "python",
   "nbconvert_exporter": "python",
   "pygments_lexer": "ipython3",
   "version": "3.9.9"
  },
  "orig_nbformat": 4,
  "vscode": {
   "interpreter": {
    "hash": "843afd09e8106438b128dab73a29344ccea6560bcd1a636ecaea26e653e2cafe"
   }
  }
 },
 "nbformat": 4,
 "nbformat_minor": 2
}
